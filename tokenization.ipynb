{
  "cells": [
    {
      "cell_type": "code",
      "execution_count": 10,
      "metadata": {
        "id": "EktylME5-a4f",
        "outputId": "d9c30daf-8e70-4b94-9307-c71cbd1428e5",
        "colab": {
          "base_uri": "https://localhost:8080/"
        }
      },
      "outputs": [
        {
          "output_type": "stream",
          "name": "stdout",
          "text": [
            "Requirement already satisfied: numpy in /usr/local/lib/python3.10/dist-packages (1.26.4)\n",
            "Requirement already satisfied: scipy in /usr/local/lib/python3.10/dist-packages (1.13.1)\n",
            "Requirement already satisfied: scikit-learn in /usr/local/lib/python3.10/dist-packages (1.5.2)\n",
            "Requirement already satisfied: nltk in /usr/local/lib/python3.10/dist-packages (3.9.1)\n",
            "Requirement already satisfied: spacy in /usr/local/lib/python3.10/dist-packages (3.7.5)\n",
            "Requirement already satisfied: matplotlib in /usr/local/lib/python3.10/dist-packages (3.8.0)\n",
            "Requirement already satisfied: gensim in /usr/local/lib/python3.10/dist-packages (4.3.3)\n",
            "Requirement already satisfied: joblib>=1.2.0 in /usr/local/lib/python3.10/dist-packages (from scikit-learn) (1.4.2)\n",
            "Requirement already satisfied: threadpoolctl>=3.1.0 in /usr/local/lib/python3.10/dist-packages (from scikit-learn) (3.5.0)\n",
            "Requirement already satisfied: click in /usr/local/lib/python3.10/dist-packages (from nltk) (8.1.7)\n",
            "Requirement already satisfied: regex>=2021.8.3 in /usr/local/lib/python3.10/dist-packages (from nltk) (2024.9.11)\n",
            "Requirement already satisfied: tqdm in /usr/local/lib/python3.10/dist-packages (from nltk) (4.66.6)\n",
            "Requirement already satisfied: spacy-legacy<3.1.0,>=3.0.11 in /usr/local/lib/python3.10/dist-packages (from spacy) (3.0.12)\n",
            "Requirement already satisfied: spacy-loggers<2.0.0,>=1.0.0 in /usr/local/lib/python3.10/dist-packages (from spacy) (1.0.5)\n",
            "Requirement already satisfied: murmurhash<1.1.0,>=0.28.0 in /usr/local/lib/python3.10/dist-packages (from spacy) (1.0.11)\n",
            "Requirement already satisfied: cymem<2.1.0,>=2.0.2 in /usr/local/lib/python3.10/dist-packages (from spacy) (2.0.10)\n",
            "Requirement already satisfied: preshed<3.1.0,>=3.0.2 in /usr/local/lib/python3.10/dist-packages (from spacy) (3.0.9)\n",
            "Requirement already satisfied: thinc<8.3.0,>=8.2.2 in /usr/local/lib/python3.10/dist-packages (from spacy) (8.2.5)\n",
            "Requirement already satisfied: wasabi<1.2.0,>=0.9.1 in /usr/local/lib/python3.10/dist-packages (from spacy) (1.1.3)\n",
            "Requirement already satisfied: srsly<3.0.0,>=2.4.3 in /usr/local/lib/python3.10/dist-packages (from spacy) (2.4.8)\n",
            "Requirement already satisfied: catalogue<2.1.0,>=2.0.6 in /usr/local/lib/python3.10/dist-packages (from spacy) (2.0.10)\n",
            "Requirement already satisfied: weasel<0.5.0,>=0.1.0 in /usr/local/lib/python3.10/dist-packages (from spacy) (0.4.1)\n",
            "Requirement already satisfied: typer<1.0.0,>=0.3.0 in /usr/local/lib/python3.10/dist-packages (from spacy) (0.14.0)\n",
            "Requirement already satisfied: requests<3.0.0,>=2.13.0 in /usr/local/lib/python3.10/dist-packages (from spacy) (2.32.3)\n",
            "Requirement already satisfied: pydantic!=1.8,!=1.8.1,<3.0.0,>=1.7.4 in /usr/local/lib/python3.10/dist-packages (from spacy) (2.10.2)\n",
            "Requirement already satisfied: jinja2 in /usr/local/lib/python3.10/dist-packages (from spacy) (3.1.4)\n",
            "Requirement already satisfied: setuptools in /usr/local/lib/python3.10/dist-packages (from spacy) (75.1.0)\n",
            "Requirement already satisfied: packaging>=20.0 in /usr/local/lib/python3.10/dist-packages (from spacy) (24.2)\n",
            "Requirement already satisfied: langcodes<4.0.0,>=3.2.0 in /usr/local/lib/python3.10/dist-packages (from spacy) (3.5.0)\n",
            "Requirement already satisfied: contourpy>=1.0.1 in /usr/local/lib/python3.10/dist-packages (from matplotlib) (1.3.1)\n",
            "Requirement already satisfied: cycler>=0.10 in /usr/local/lib/python3.10/dist-packages (from matplotlib) (0.12.1)\n",
            "Requirement already satisfied: fonttools>=4.22.0 in /usr/local/lib/python3.10/dist-packages (from matplotlib) (4.55.0)\n",
            "Requirement already satisfied: kiwisolver>=1.0.1 in /usr/local/lib/python3.10/dist-packages (from matplotlib) (1.4.7)\n",
            "Requirement already satisfied: pillow>=6.2.0 in /usr/local/lib/python3.10/dist-packages (from matplotlib) (11.0.0)\n",
            "Requirement already satisfied: pyparsing>=2.3.1 in /usr/local/lib/python3.10/dist-packages (from matplotlib) (3.2.0)\n",
            "Requirement already satisfied: python-dateutil>=2.7 in /usr/local/lib/python3.10/dist-packages (from matplotlib) (2.8.2)\n",
            "Requirement already satisfied: smart-open>=1.8.1 in /usr/local/lib/python3.10/dist-packages (from gensim) (7.0.5)\n",
            "Requirement already satisfied: language-data>=1.2 in /usr/local/lib/python3.10/dist-packages (from langcodes<4.0.0,>=3.2.0->spacy) (1.3.0)\n",
            "Requirement already satisfied: annotated-types>=0.6.0 in /usr/local/lib/python3.10/dist-packages (from pydantic!=1.8,!=1.8.1,<3.0.0,>=1.7.4->spacy) (0.7.0)\n",
            "Requirement already satisfied: pydantic-core==2.27.1 in /usr/local/lib/python3.10/dist-packages (from pydantic!=1.8,!=1.8.1,<3.0.0,>=1.7.4->spacy) (2.27.1)\n",
            "Requirement already satisfied: typing-extensions>=4.12.2 in /usr/local/lib/python3.10/dist-packages (from pydantic!=1.8,!=1.8.1,<3.0.0,>=1.7.4->spacy) (4.12.2)\n",
            "Requirement already satisfied: six>=1.5 in /usr/local/lib/python3.10/dist-packages (from python-dateutil>=2.7->matplotlib) (1.16.0)\n",
            "Requirement already satisfied: charset-normalizer<4,>=2 in /usr/local/lib/python3.10/dist-packages (from requests<3.0.0,>=2.13.0->spacy) (3.4.0)\n",
            "Requirement already satisfied: idna<4,>=2.5 in /usr/local/lib/python3.10/dist-packages (from requests<3.0.0,>=2.13.0->spacy) (3.10)\n",
            "Requirement already satisfied: urllib3<3,>=1.21.1 in /usr/local/lib/python3.10/dist-packages (from requests<3.0.0,>=2.13.0->spacy) (2.2.3)\n",
            "Requirement already satisfied: certifi>=2017.4.17 in /usr/local/lib/python3.10/dist-packages (from requests<3.0.0,>=2.13.0->spacy) (2024.8.30)\n",
            "Requirement already satisfied: wrapt in /usr/local/lib/python3.10/dist-packages (from smart-open>=1.8.1->gensim) (1.17.0)\n",
            "Requirement already satisfied: blis<0.8.0,>=0.7.8 in /usr/local/lib/python3.10/dist-packages (from thinc<8.3.0,>=8.2.2->spacy) (0.7.11)\n",
            "Requirement already satisfied: confection<1.0.0,>=0.0.1 in /usr/local/lib/python3.10/dist-packages (from thinc<8.3.0,>=8.2.2->spacy) (0.1.5)\n",
            "Requirement already satisfied: shellingham>=1.3.0 in /usr/local/lib/python3.10/dist-packages (from typer<1.0.0,>=0.3.0->spacy) (1.5.4)\n",
            "Requirement already satisfied: rich>=10.11.0 in /usr/local/lib/python3.10/dist-packages (from typer<1.0.0,>=0.3.0->spacy) (13.9.4)\n",
            "Requirement already satisfied: cloudpathlib<1.0.0,>=0.7.0 in /usr/local/lib/python3.10/dist-packages (from weasel<0.5.0,>=0.1.0->spacy) (0.20.0)\n",
            "Requirement already satisfied: MarkupSafe>=2.0 in /usr/local/lib/python3.10/dist-packages (from jinja2->spacy) (3.0.2)\n",
            "Requirement already satisfied: marisa-trie>=1.1.0 in /usr/local/lib/python3.10/dist-packages (from language-data>=1.2->langcodes<4.0.0,>=3.2.0->spacy) (1.2.1)\n",
            "Requirement already satisfied: markdown-it-py>=2.2.0 in /usr/local/lib/python3.10/dist-packages (from rich>=10.11.0->typer<1.0.0,>=0.3.0->spacy) (3.0.0)\n",
            "Requirement already satisfied: pygments<3.0.0,>=2.13.0 in /usr/local/lib/python3.10/dist-packages (from rich>=10.11.0->typer<1.0.0,>=0.3.0->spacy) (2.18.0)\n",
            "Requirement already satisfied: mdurl~=0.1 in /usr/local/lib/python3.10/dist-packages (from markdown-it-py>=2.2.0->rich>=10.11.0->typer<1.0.0,>=0.3.0->spacy) (0.1.2)\n"
          ]
        }
      ],
      "source": [
        "# Install dependencies\n",
        "!pip install numpy scipy scikit-learn nltk spacy matplotlib gensim\n",
        "\n"
      ]
    },
    {
      "cell_type": "code",
      "execution_count": 11,
      "metadata": {
        "id": "pNoCNhFq-a4f"
      },
      "outputs": [],
      "source": [
        "# Import necessary libraries\n",
        "import nltk\n",
        "from nltk.corpus import stopwords\n",
        "from nltk.tokenize import word_tokenize, sent_tokenize\n",
        "from nltk.probability import FreqDist\n",
        "import spacy\n",
        "from spacy import displacy\n",
        "import matplotlib.pyplot as plt\n"
      ]
    },
    {
      "cell_type": "code",
      "execution_count": 20,
      "metadata": {
        "id": "J2lYjbUv-a4g",
        "outputId": "aa699f13-60da-4c0b-9160-257bee65240c",
        "colab": {
          "base_uri": "https://localhost:8080/"
        }
      },
      "outputs": [
        {
          "output_type": "stream",
          "name": "stderr",
          "text": [
            "[nltk_data] Downloading package punkt_tab to /root/nltk_data...\n",
            "[nltk_data]   Unzipping tokenizers/punkt_tab.zip.\n"
          ]
        }
      ],
      "source": [
        "\n",
        "# Download NLTK resources\n",
        "nltk.download('punkt_tab')\n",
        "\n",
        "\n",
        "# Sample text\n",
        "text = \"\"\"\n",
        "Artificial intelligence (AI) is revolutionizing industries worldwide. Companies like OpenAI and Google are at the forefront,\n",
        "developing large language models such as ChatGPT and Bard. In 2024, advancements in AI are expected to enhance medical diagnoses,\n",
        "autonomous driving, and personalized education.\n",
        "\"\"\"\n"
      ]
    },
    {
      "cell_type": "code",
      "execution_count": 13,
      "metadata": {
        "id": "ksYr96b6-a4g"
      },
      "outputs": [],
      "source": [
        "\n",
        "# Step 1: Preprocessing with NLTK\n",
        "def nltk_preprocessing(text):\n",
        "    # Tokenize sentences\n",
        "    sentences = sent_tokenize(text)\n",
        "    print(\"Sentences:\", sentences)\n",
        "\n",
        "    # Tokenize words\n",
        "    words = word_tokenize(text)\n",
        "    print(\"\\nWords:\", words)\n",
        "\n",
        "    # Remove stopwords\n",
        "    stop_words = set(stopwords.words(\"english\"))\n",
        "    filtered_words = [word for word in words if word.lower() not in stop_words and word.isalnum()]\n",
        "    print(\"\\nFiltered Words:\", filtered_words)\n",
        "\n",
        "    return filtered_words\n"
      ]
    },
    {
      "cell_type": "code",
      "execution_count": 14,
      "metadata": {
        "id": "gHyKV2tJ-a4g"
      },
      "outputs": [],
      "source": [
        "\n",
        "# Step 2: Word Frequency Distribution with NLTK\n",
        "def nltk_word_frequency(words):\n",
        "    freq_dist = FreqDist(words)\n",
        "    print(\"\\nWord Frequency:\", freq_dist.most_common(5))\n",
        "\n",
        "    # Visualize word frequency\n",
        "    plt.figure(figsize=(10, 6))\n",
        "    freq_dist.plot(10, cumulative=False)\n",
        "    plt.title(\"Word Frequency Distribution\")\n",
        "    plt.show()\n"
      ]
    },
    {
      "cell_type": "code",
      "execution_count": 15,
      "metadata": {
        "id": "iE1hciW5-a4g"
      },
      "outputs": [],
      "source": [
        "\n",
        "# Step 3: Entity Recognition and Visualization with spaCy\n",
        "def spacy_ner_visualization(text):\n",
        "    # Load spaCy's English model\n",
        "    nlp = spacy.load(\"en_core_web_sm\")\n",
        "    doc = nlp(text)\n",
        "\n",
        "    # Display entities\n",
        "    print(\"\\nNamed Entities:\")\n",
        "    for ent in doc.ents:\n",
        "        print(f\"{ent.text} ({ent.label_})\")\n",
        "\n",
        "    # Visualize entities using spaCy's DisplaCy\n",
        "    displacy.render(doc, style=\"ent\", jupyter=False)\n",
        "\n"
      ]
    },
    {
      "cell_type": "code",
      "execution_count": 16,
      "metadata": {
        "id": "b4VOVvO4-a4g"
      },
      "outputs": [],
      "source": [
        "# Step 4: Part-of-Speech Tagging with spaCy\n",
        "def spacy_pos_analysis(text):\n",
        "    # Load spaCy's English model\n",
        "    nlp = spacy.load(\"en_core_web_sm\")\n",
        "    doc = nlp(text)\n",
        "\n",
        "    # POS tagging\n",
        "    print(\"\\nPart-of-Speech Tags:\")\n",
        "    for token in doc:\n",
        "        print(f\"{token.text}: {token.pos_} ({token.tag_})\")\n",
        "\n",
        "    # Visualize POS tagging (e.g., dependency parse tree)\n",
        "    displacy.render(doc, style=\"dep\", jupyter=False)\n",
        "\n"
      ]
    },
    {
      "cell_type": "code",
      "execution_count": 21,
      "metadata": {
        "id": "37sjojoW-a4g",
        "outputId": "cc387b6e-dc3c-4ab3-b317-9f2f5cbcfd5f",
        "colab": {
          "base_uri": "https://localhost:8080/",
          "height": 1000
        }
      },
      "outputs": [
        {
          "output_type": "stream",
          "name": "stdout",
          "text": [
            "\n",
            "--- NLTK Preprocessing ---\n",
            "Sentences: ['\\nArtificial intelligence (AI) is revolutionizing industries worldwide.', 'Companies like OpenAI and Google are at the forefront, \\ndeveloping large language models such as ChatGPT and Bard.', 'In 2024, advancements in AI are expected to enhance medical diagnoses, \\nautonomous driving, and personalized education.']\n",
            "\n",
            "Words: ['Artificial', 'intelligence', '(', 'AI', ')', 'is', 'revolutionizing', 'industries', 'worldwide', '.', 'Companies', 'like', 'OpenAI', 'and', 'Google', 'are', 'at', 'the', 'forefront', ',', 'developing', 'large', 'language', 'models', 'such', 'as', 'ChatGPT', 'and', 'Bard', '.', 'In', '2024', ',', 'advancements', 'in', 'AI', 'are', 'expected', 'to', 'enhance', 'medical', 'diagnoses', ',', 'autonomous', 'driving', ',', 'and', 'personalized', 'education', '.']\n",
            "\n",
            "Filtered Words: ['Artificial', 'intelligence', 'AI', 'revolutionizing', 'industries', 'worldwide', 'Companies', 'like', 'OpenAI', 'Google', 'forefront', 'developing', 'large', 'language', 'models', 'ChatGPT', 'Bard', '2024', 'advancements', 'AI', 'expected', 'enhance', 'medical', 'diagnoses', 'autonomous', 'driving', 'personalized', 'education']\n",
            "\n",
            "Word Frequency: [('AI', 2), ('Artificial', 1), ('intelligence', 1), ('revolutionizing', 1), ('industries', 1)]\n"
          ]
        },
        {
          "output_type": "display_data",
          "data": {
            "text/plain": [
              "<Figure size 1000x600 with 1 Axes>"
            ],
            "image/png": "[encoded data removed]"
          },
          "metadata": {}
        },
        {
          "output_type": "stream",
          "name": "stdout",
          "text": [
            "\n",
            "--- spaCy NER Visualization ---\n",
            "\n",
            "Named Entities:\n",
            "AI (ORG)\n",
            "OpenAI (GPE)\n",
            "Google (ORG)\n",
            "Bard (ORG)\n",
            "2024 (DATE)\n",
            "AI (GPE)\n",
            "\n",
            "--- spaCy POS Analysis ---\n",
            "\n",
            "Part-of-Speech Tags:\n",
            "\n",
            ": SPACE (_SP)\n",
            "Artificial: PROPN (NNP)\n",
            "intelligence: NOUN (NN)\n",
            "(: PUNCT (-LRB-)\n",
            "AI: PROPN (NNP)\n",
            "): PUNCT (-RRB-)\n",
            "is: AUX (VBZ)\n",
            "revolutionizing: VERB (VBG)\n",
            "industries: NOUN (NNS)\n",
            "worldwide: ADV (RB)\n",
            ".: PUNCT (.)\n",
            "Companies: NOUN (NNS)\n",
            "like: ADP (IN)\n",
            "OpenAI: PROPN (NNP)\n",
            "and: CCONJ (CC)\n",
            "Google: PROPN (NNP)\n",
            "are: AUX (VBP)\n",
            "at: ADP (IN)\n",
            "the: DET (DT)\n",
            "forefront: NOUN (NN)\n",
            ",: PUNCT (,)\n",
            "\n",
            ": SPACE (_SP)\n",
            "developing: VERB (VBG)\n",
            "large: ADJ (JJ)\n",
            "language: NOUN (NN)\n",
            "models: NOUN (NNS)\n",
            "such: ADJ (JJ)\n",
            "as: ADP (IN)\n",
            "ChatGPT: PROPN (NNP)\n",
            "and: CCONJ (CC)\n",
            "Bard: PROPN (NNP)\n",
            ".: PUNCT (.)\n",
            "In: ADP (IN)\n",
            "2024: NUM (CD)\n",
            ",: PUNCT (,)\n",
            "advancements: NOUN (NNS)\n",
            "in: ADP (IN)\n",
            "AI: PROPN (NNP)\n",
            "are: AUX (VBP)\n",
            "expected: VERB (VBN)\n",
            "to: PART (TO)\n",
            "enhance: VERB (VB)\n",
            "medical: ADJ (JJ)\n",
            "diagnoses: NOUN (NNS)\n",
            ",: PUNCT (,)\n",
            "\n",
            ": SPACE (_SP)\n",
            "autonomous: ADJ (JJ)\n",
            "driving: NOUN (NN)\n",
            ",: PUNCT (,)\n",
            "and: CCONJ (CC)\n",
            "personalized: VERB (VBN)\n",
            "education: NOUN (NN)\n",
            ".: PUNCT (.)\n",
            "\n",
            ": SPACE (_SP)\n"
          ]
        }
      ],
      "source": [
        "# Run the pipeline\n",
        "print(\"\\n--- NLTK Preprocessing ---\")\n",
        "filtered_words = nltk_preprocessing(text)\n",
        "nltk_word_frequency(filtered_words)\n",
        "\n",
        "print(\"\\n--- spaCy NER Visualization ---\")\n",
        "spacy_ner_visualization(text)\n",
        "\n",
        "print(\"\\n--- spaCy POS Analysis ---\")\n",
        "spacy_pos_analysis(text)\n"
      ]
    },
    {
      "cell_type": "code",
      "source": [],
      "metadata": {
        "id": "detnX6DJ_mew"
      },
      "execution_count": null,
      "outputs": []
    }
  ],
  "metadata": {
    "kernelspec": {
      "display_name": "project",
      "language": "python",
      "name": "python3"
    },
    "language_info": {
      "name": "python",
      "version": "3.11.4"
    },
    "colab": {
      "provenance": []
    }
  },
  "nbformat": 4,
  "nbformat_minor": 0
}